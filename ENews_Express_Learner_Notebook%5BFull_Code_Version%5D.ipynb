{
 "cells": [
  {
   "cell_type": "markdown",
   "id": "6yDxo9u0d9Na",
   "metadata": {
    "id": "6yDxo9u0d9Na"
   },
   "source": [
    "# Project Business Statistics: E-news Express\n",
    "\n",
    "**Marks: 60**"
   ]
  },
  {
   "cell_type": "markdown",
   "id": "SrLd-ICEmPSD",
   "metadata": {
    "id": "SrLd-ICEmPSD"
   },
   "source": [
    "## Define Problem Statement and Objectives\n",
    "\n",
    "### Problem Statement\n",
    "\n",
    "Expanding its subscription base is a top priority for E-news Express, an online news site. The organization intends to assess user interests and determine how to promote higher engagement by observing the specific activities each visitor to the website takes depending on their own interests. Executives at E-news Express believe that the current webpage's design, particularly with regards to the outline and recommended content, is not good enough to keep customers engaged long enough to make a decision to subscribe, which has resulted in a decline in new monthly subscribers compared to the past year.\n",
    "\n",
    "### Objectives\n",
    "Statistical analysis of business data. Explore the dataset and extract insights from the data.\n",
    "- Do the users spend more time on the new landing page than on the existing landing page? \n",
    "- Is the conversion rate for the new page greater than the conversion rate for the old page? \n",
    "- Does the converted status depend on the preferred language? \n",
    "- Is the time spent on the new page the same for the different language users? "
   ]
  },
  {
   "cell_type": "markdown",
   "id": "a6a3d218",
   "metadata": {
    "id": "a6a3d218"
   },
   "source": [
    "## Import all the necessary libraries"
   ]
  },
  {
   "cell_type": "code",
   "execution_count": 1,
   "id": "658c5dec",
   "metadata": {
    "id": "658c5dec"
   },
   "outputs": [],
   "source": [
    "import pandas as pd\n",
    "import numpy as np \n",
    "import matplotlib.pyplot as plt \n",
    "import seaborn as sns \n",
    "%matplotlib inline \n",
    "import scipy.stats as stats "
   ]
  },
  {
   "cell_type": "markdown",
   "id": "6970dd99",
   "metadata": {
    "id": "6970dd99"
   },
   "source": [
    "## Reading the Data into a DataFrame"
   ]
  },
  {
   "cell_type": "code",
   "execution_count": 2,
   "id": "d3b95640",
   "metadata": {
    "id": "d3b95640"
   },
   "outputs": [],
   "source": [
    "df = pd.read_csv('abtest.csv')\n",
    "# Create copy of original data to work on to avoid any changes to the original.\n",
    "data=df.copy()"
   ]
  },
  {
   "cell_type": "markdown",
   "id": "9d75cfa2",
   "metadata": {
    "id": "9d75cfa2"
   },
   "source": [
    "## Explore the dataset and extract insights using Exploratory Data Analysis"
   ]
  },
  {
   "cell_type": "markdown",
   "id": "27201534",
   "metadata": {
    "id": "27201534"
   },
   "source": [
    "- Data Overview\n",
    "  - Viewing the first and last few rows of the dataset\n",
    "  - Checking the shape of the dataset\n",
    "  - Getting the statistical summary for the variables\n",
    "- Check for missing values\n",
    "- Check for duplicates"
   ]
  },
  {
   "cell_type": "code",
   "execution_count": 3,
   "id": "e1ad11d4",
   "metadata": {
    "id": "e1ad11d4"
   },
   "outputs": [
    {
     "data": {
      "text/html": [
       "<div>\n",
       "<style scoped>\n",
       "    .dataframe tbody tr th:only-of-type {\n",
       "        vertical-align: middle;\n",
       "    }\n",
       "\n",
       "    .dataframe tbody tr th {\n",
       "        vertical-align: top;\n",
       "    }\n",
       "\n",
       "    .dataframe thead th {\n",
       "        text-align: right;\n",
       "    }\n",
       "</style>\n",
       "<table border=\"1\" class=\"dataframe\">\n",
       "  <thead>\n",
       "    <tr style=\"text-align: right;\">\n",
       "      <th></th>\n",
       "      <th>user_id</th>\n",
       "      <th>group</th>\n",
       "      <th>landing_page</th>\n",
       "      <th>time_spent_on_the_page</th>\n",
       "      <th>converted</th>\n",
       "      <th>language_preferred</th>\n",
       "    </tr>\n",
       "  </thead>\n",
       "  <tbody>\n",
       "    <tr>\n",
       "      <th>0</th>\n",
       "      <td>546592</td>\n",
       "      <td>control</td>\n",
       "      <td>old</td>\n",
       "      <td>3.48</td>\n",
       "      <td>no</td>\n",
       "      <td>Spanish</td>\n",
       "    </tr>\n",
       "    <tr>\n",
       "      <th>1</th>\n",
       "      <td>546468</td>\n",
       "      <td>treatment</td>\n",
       "      <td>new</td>\n",
       "      <td>7.13</td>\n",
       "      <td>yes</td>\n",
       "      <td>English</td>\n",
       "    </tr>\n",
       "    <tr>\n",
       "      <th>2</th>\n",
       "      <td>546462</td>\n",
       "      <td>treatment</td>\n",
       "      <td>new</td>\n",
       "      <td>4.40</td>\n",
       "      <td>no</td>\n",
       "      <td>Spanish</td>\n",
       "    </tr>\n",
       "    <tr>\n",
       "      <th>3</th>\n",
       "      <td>546567</td>\n",
       "      <td>control</td>\n",
       "      <td>old</td>\n",
       "      <td>3.02</td>\n",
       "      <td>no</td>\n",
       "      <td>French</td>\n",
       "    </tr>\n",
       "    <tr>\n",
       "      <th>4</th>\n",
       "      <td>546459</td>\n",
       "      <td>treatment</td>\n",
       "      <td>new</td>\n",
       "      <td>4.75</td>\n",
       "      <td>yes</td>\n",
       "      <td>Spanish</td>\n",
       "    </tr>\n",
       "  </tbody>\n",
       "</table>\n",
       "</div>"
      ],
      "text/plain": [
       "   user_id      group landing_page  time_spent_on_the_page converted  \\\n",
       "0   546592    control          old                    3.48        no   \n",
       "1   546468  treatment          new                    7.13       yes   \n",
       "2   546462  treatment          new                    4.40        no   \n",
       "3   546567    control          old                    3.02        no   \n",
       "4   546459  treatment          new                    4.75       yes   \n",
       "\n",
       "  language_preferred  \n",
       "0            Spanish  \n",
       "1            English  \n",
       "2            Spanish  \n",
       "3             French  \n",
       "4            Spanish  "
      ]
     },
     "execution_count": 3,
     "metadata": {},
     "output_type": "execute_result"
    }
   ],
   "source": [
    "#View the first and last 5 rows of the dataset.\n",
    "data.head()"
   ]
  },
  {
   "cell_type": "code",
   "execution_count": 4,
   "id": "118d648c",
   "metadata": {},
   "outputs": [
    {
     "data": {
      "text/html": [
       "<div>\n",
       "<style scoped>\n",
       "    .dataframe tbody tr th:only-of-type {\n",
       "        vertical-align: middle;\n",
       "    }\n",
       "\n",
       "    .dataframe tbody tr th {\n",
       "        vertical-align: top;\n",
       "    }\n",
       "\n",
       "    .dataframe thead th {\n",
       "        text-align: right;\n",
       "    }\n",
       "</style>\n",
       "<table border=\"1\" class=\"dataframe\">\n",
       "  <thead>\n",
       "    <tr style=\"text-align: right;\">\n",
       "      <th></th>\n",
       "      <th>user_id</th>\n",
       "      <th>group</th>\n",
       "      <th>landing_page</th>\n",
       "      <th>time_spent_on_the_page</th>\n",
       "      <th>converted</th>\n",
       "      <th>language_preferred</th>\n",
       "    </tr>\n",
       "  </thead>\n",
       "  <tbody>\n",
       "    <tr>\n",
       "      <th>95</th>\n",
       "      <td>546446</td>\n",
       "      <td>treatment</td>\n",
       "      <td>new</td>\n",
       "      <td>5.15</td>\n",
       "      <td>no</td>\n",
       "      <td>Spanish</td>\n",
       "    </tr>\n",
       "    <tr>\n",
       "      <th>96</th>\n",
       "      <td>546544</td>\n",
       "      <td>control</td>\n",
       "      <td>old</td>\n",
       "      <td>6.52</td>\n",
       "      <td>yes</td>\n",
       "      <td>English</td>\n",
       "    </tr>\n",
       "    <tr>\n",
       "      <th>97</th>\n",
       "      <td>546472</td>\n",
       "      <td>treatment</td>\n",
       "      <td>new</td>\n",
       "      <td>7.07</td>\n",
       "      <td>yes</td>\n",
       "      <td>Spanish</td>\n",
       "    </tr>\n",
       "    <tr>\n",
       "      <th>98</th>\n",
       "      <td>546481</td>\n",
       "      <td>treatment</td>\n",
       "      <td>new</td>\n",
       "      <td>6.20</td>\n",
       "      <td>yes</td>\n",
       "      <td>Spanish</td>\n",
       "    </tr>\n",
       "    <tr>\n",
       "      <th>99</th>\n",
       "      <td>546483</td>\n",
       "      <td>treatment</td>\n",
       "      <td>new</td>\n",
       "      <td>5.86</td>\n",
       "      <td>yes</td>\n",
       "      <td>English</td>\n",
       "    </tr>\n",
       "  </tbody>\n",
       "</table>\n",
       "</div>"
      ],
      "text/plain": [
       "    user_id      group landing_page  time_spent_on_the_page converted  \\\n",
       "95   546446  treatment          new                    5.15        no   \n",
       "96   546544    control          old                    6.52       yes   \n",
       "97   546472  treatment          new                    7.07       yes   \n",
       "98   546481  treatment          new                    6.20       yes   \n",
       "99   546483  treatment          new                    5.86       yes   \n",
       "\n",
       "   language_preferred  \n",
       "95            Spanish  \n",
       "96            English  \n",
       "97            Spanish  \n",
       "98            Spanish  \n",
       "99            English  "
      ]
     },
     "execution_count": 4,
     "metadata": {},
     "output_type": "execute_result"
    }
   ],
   "source": [
    "# view the last 5 rows of the dataset\n",
    "data.tail()"
   ]
  },
  {
   "cell_type": "code",
   "execution_count": 5,
   "id": "6a3529f0",
   "metadata": {},
   "outputs": [
    {
     "data": {
      "text/plain": [
       "(100, 6)"
      ]
     },
     "execution_count": 5,
     "metadata": {},
     "output_type": "execute_result"
    }
   ],
   "source": [
    "# view the shape of the dataset\n",
    "data.shape"
   ]
  },
  {
   "cell_type": "markdown",
   "id": "93b0d325",
   "metadata": {},
   "source": [
    "### Observations:\n",
    "The dataframe have 100 rows and 6 columns"
   ]
  },
  {
   "cell_type": "code",
   "execution_count": 6,
   "id": "3f0940d5",
   "metadata": {},
   "outputs": [
    {
     "data": {
      "text/html": [
       "<div>\n",
       "<style scoped>\n",
       "    .dataframe tbody tr th:only-of-type {\n",
       "        vertical-align: middle;\n",
       "    }\n",
       "\n",
       "    .dataframe tbody tr th {\n",
       "        vertical-align: top;\n",
       "    }\n",
       "\n",
       "    .dataframe thead th {\n",
       "        text-align: right;\n",
       "    }\n",
       "</style>\n",
       "<table border=\"1\" class=\"dataframe\">\n",
       "  <thead>\n",
       "    <tr style=\"text-align: right;\">\n",
       "      <th></th>\n",
       "      <th>user_id</th>\n",
       "      <th>time_spent_on_the_page</th>\n",
       "    </tr>\n",
       "  </thead>\n",
       "  <tbody>\n",
       "    <tr>\n",
       "      <th>count</th>\n",
       "      <td>100.000000</td>\n",
       "      <td>100.000000</td>\n",
       "    </tr>\n",
       "    <tr>\n",
       "      <th>mean</th>\n",
       "      <td>546517.000000</td>\n",
       "      <td>5.377800</td>\n",
       "    </tr>\n",
       "    <tr>\n",
       "      <th>std</th>\n",
       "      <td>52.295779</td>\n",
       "      <td>2.378166</td>\n",
       "    </tr>\n",
       "    <tr>\n",
       "      <th>min</th>\n",
       "      <td>546443.000000</td>\n",
       "      <td>0.190000</td>\n",
       "    </tr>\n",
       "    <tr>\n",
       "      <th>25%</th>\n",
       "      <td>546467.750000</td>\n",
       "      <td>3.880000</td>\n",
       "    </tr>\n",
       "    <tr>\n",
       "      <th>50%</th>\n",
       "      <td>546492.500000</td>\n",
       "      <td>5.415000</td>\n",
       "    </tr>\n",
       "    <tr>\n",
       "      <th>75%</th>\n",
       "      <td>546567.250000</td>\n",
       "      <td>7.022500</td>\n",
       "    </tr>\n",
       "    <tr>\n",
       "      <th>max</th>\n",
       "      <td>546592.000000</td>\n",
       "      <td>10.710000</td>\n",
       "    </tr>\n",
       "  </tbody>\n",
       "</table>\n",
       "</div>"
      ],
      "text/plain": [
       "             user_id  time_spent_on_the_page\n",
       "count     100.000000              100.000000\n",
       "mean   546517.000000                5.377800\n",
       "std        52.295779                2.378166\n",
       "min    546443.000000                0.190000\n",
       "25%    546467.750000                3.880000\n",
       "50%    546492.500000                5.415000\n",
       "75%    546567.250000                7.022500\n",
       "max    546592.000000               10.710000"
      ]
     },
     "execution_count": 6,
     "metadata": {},
     "output_type": "execute_result"
    }
   ],
   "source": [
    "# Outputs the summary statistics of the dataset\n",
    "data.describe()"
   ]
  },
  {
   "cell_type": "markdown",
   "id": "17e8da56",
   "metadata": {},
   "source": [
    "### Observations:\n",
    "On the dataset we have: \n",
    "1. A mean of 5.38 minutes for \"time_spent_on_the_page\" column \n",
    "2. A Standard deviation of 2.38 minutes \n",
    "3. The column \"time_spent_on_the_page\" is the only numerical variable with float type\n",
    "4. Inter-quartile range includes:\n",
    "- Min = 0.19\n",
    "- 25% quartile = 3.88\n",
    "- 50% quartile = 5.42\n",
    "- 75% quartile = 7.02\n",
    "- Max = 10.71"
   ]
  },
  {
   "cell_type": "code",
   "execution_count": 7,
   "id": "255728b2",
   "metadata": {},
   "outputs": [
    {
     "name": "stdout",
     "output_type": "stream",
     "text": [
      "<class 'pandas.core.frame.DataFrame'>\n",
      "RangeIndex: 100 entries, 0 to 99\n",
      "Data columns (total 6 columns):\n",
      " #   Column                  Non-Null Count  Dtype  \n",
      "---  ------                  --------------  -----  \n",
      " 0   user_id                 100 non-null    int64  \n",
      " 1   group                   100 non-null    object \n",
      " 2   landing_page            100 non-null    object \n",
      " 3   time_spent_on_the_page  100 non-null    float64\n",
      " 4   converted               100 non-null    object \n",
      " 5   language_preferred      100 non-null    object \n",
      "dtypes: float64(1), int64(1), object(4)\n",
      "memory usage: 4.8+ KB\n"
     ]
    }
   ],
   "source": [
    "# check the data types of the columns in the dataset\n",
    "data.info()"
   ]
  },
  {
   "cell_type": "markdown",
   "id": "06557e63",
   "metadata": {},
   "source": [
    "### Observations:\n",
    "- user_id, time_spent_on_the_page are numerical\n",
    "- group, landing page, converted and language_preferred are object"
   ]
  },
  {
   "cell_type": "markdown",
   "id": "86eb939b",
   "metadata": {},
   "source": [
    "### Fixing the Data types\n",
    "Converts 'group', 'landing_page', 'converted', 'language_preferred' into categorical data to reduce the data space required to store the dataframe\n"
   ]
  },
  {
   "cell_type": "code",
   "execution_count": 8,
   "id": "a0c150fe",
   "metadata": {},
   "outputs": [
    {
     "name": "stdout",
     "output_type": "stream",
     "text": [
      "<class 'pandas.core.frame.DataFrame'>\n",
      "RangeIndex: 100 entries, 0 to 99\n",
      "Data columns (total 6 columns):\n",
      " #   Column                  Non-Null Count  Dtype   \n",
      "---  ------                  --------------  -----   \n",
      " 0   user_id                 100 non-null    int64   \n",
      " 1   group                   100 non-null    category\n",
      " 2   landing_page            100 non-null    category\n",
      " 3   time_spent_on_the_page  100 non-null    float64 \n",
      " 4   converted               100 non-null    category\n",
      " 5   language_preferred      100 non-null    category\n",
      "dtypes: category(4), float64(1), int64(1)\n",
      "memory usage: 2.6 KB\n"
     ]
    }
   ],
   "source": [
    "for col in ['group', 'landing_page', 'converted', 'language_preferred']:\n",
    "    data[col] = data[col].astype('category')\n",
    "\n",
    "# use info() to print a concise summary of the DataFrame\n",
    "data.info()"
   ]
  },
  {
   "cell_type": "markdown",
   "id": "06d1f902",
   "metadata": {},
   "source": [
    "### Getting the statistical summary for the categorical variables"
   ]
  },
  {
   "cell_type": "code",
   "execution_count": 9,
   "id": "c7214e4d",
   "metadata": {},
   "outputs": [
    {
     "data": {
      "text/html": [
       "<div>\n",
       "<style scoped>\n",
       "    .dataframe tbody tr th:only-of-type {\n",
       "        vertical-align: middle;\n",
       "    }\n",
       "\n",
       "    .dataframe tbody tr th {\n",
       "        vertical-align: top;\n",
       "    }\n",
       "\n",
       "    .dataframe thead th {\n",
       "        text-align: right;\n",
       "    }\n",
       "</style>\n",
       "<table border=\"1\" class=\"dataframe\">\n",
       "  <thead>\n",
       "    <tr style=\"text-align: right;\">\n",
       "      <th></th>\n",
       "      <th>group</th>\n",
       "      <th>landing_page</th>\n",
       "      <th>converted</th>\n",
       "      <th>language_preferred</th>\n",
       "    </tr>\n",
       "  </thead>\n",
       "  <tbody>\n",
       "    <tr>\n",
       "      <th>count</th>\n",
       "      <td>100</td>\n",
       "      <td>100</td>\n",
       "      <td>100</td>\n",
       "      <td>100</td>\n",
       "    </tr>\n",
       "    <tr>\n",
       "      <th>unique</th>\n",
       "      <td>2</td>\n",
       "      <td>2</td>\n",
       "      <td>2</td>\n",
       "      <td>3</td>\n",
       "    </tr>\n",
       "    <tr>\n",
       "      <th>top</th>\n",
       "      <td>control</td>\n",
       "      <td>new</td>\n",
       "      <td>yes</td>\n",
       "      <td>French</td>\n",
       "    </tr>\n",
       "    <tr>\n",
       "      <th>freq</th>\n",
       "      <td>50</td>\n",
       "      <td>50</td>\n",
       "      <td>54</td>\n",
       "      <td>34</td>\n",
       "    </tr>\n",
       "  </tbody>\n",
       "</table>\n",
       "</div>"
      ],
      "text/plain": [
       "          group landing_page converted language_preferred\n",
       "count       100          100       100                100\n",
       "unique        2            2         2                  3\n",
       "top     control          new       yes             French\n",
       "freq         50           50        54                 34"
      ]
     },
     "execution_count": 9,
     "metadata": {},
     "output_type": "execute_result"
    }
   ],
   "source": [
    "data.describe(include=[\"category\"])"
   ]
  },
  {
   "cell_type": "markdown",
   "id": "ff6463a0",
   "metadata": {},
   "source": [
    "### Observations:\n",
    "- We have 100 unique users. \n",
    "- Users are equally divided into 2 groups: Control and Treatment. \n",
    "- Users are exposed to 2 different types of landing pages: Old and New. \n",
    "- Users are divided by 3 different preferred languages. \n",
    "- The feature \"converted\" has 2 unique values no and yes, with yes(coverted) having the highest frequency of 54."
   ]
  },
  {
   "cell_type": "code",
   "execution_count": 10,
   "id": "3450bf85",
   "metadata": {},
   "outputs": [
    {
     "data": {
      "text/plain": [
       "['Spanish', 'English', 'French']\n",
       "Categories (3, object): ['English', 'French', 'Spanish']"
      ]
     },
     "execution_count": 10,
     "metadata": {},
     "output_type": "execute_result"
    }
   ],
   "source": [
    "data['language_preferred'].unique()"
   ]
  },
  {
   "cell_type": "markdown",
   "id": "e29c34b2",
   "metadata": {},
   "source": [
    "### Observation:\n",
    "The feature \"language preferred\" has 3 unique values spanish, english, and french, with french having the highest frequency of 34."
   ]
  },
  {
   "cell_type": "code",
   "execution_count": 11,
   "id": "c9689e5e",
   "metadata": {},
   "outputs": [
    {
     "data": {
      "text/plain": [
       "user_id                   0\n",
       "group                     0\n",
       "landing_page              0\n",
       "time_spent_on_the_page    0\n",
       "converted                 0\n",
       "language_preferred        0\n",
       "dtype: int64"
      ]
     },
     "execution_count": 11,
     "metadata": {},
     "output_type": "execute_result"
    }
   ],
   "source": [
    "# Check for missing values\n",
    "data.isnull().sum()"
   ]
  },
  {
   "cell_type": "code",
   "execution_count": 12,
   "id": "5575acad",
   "metadata": {},
   "outputs": [
    {
     "data": {
      "text/plain": [
       "0"
      ]
     },
     "execution_count": 12,
     "metadata": {},
     "output_type": "execute_result"
    }
   ],
   "source": [
    "# Check for duplicates\n",
    "df.duplicated().sum()"
   ]
  },
  {
   "cell_type": "markdown",
   "id": "9602cffd",
   "metadata": {},
   "source": [
    "### Observation:\n",
    "There are no missing values and duplicates."
   ]
  },
  {
   "cell_type": "markdown",
   "id": "68f3b2c9",
   "metadata": {
    "id": "68f3b2c9"
   },
   "source": [
    "### Univariate Analysis"
   ]
  },
  {
   "cell_type": "markdown",
   "id": "9ebfacdf",
   "metadata": {
    "id": "1932d0f3"
   },
   "source": [
    "#### Time spent on the page"
   ]
  },
  {
   "cell_type": "code",
   "execution_count": 13,
   "id": "806afb3e",
   "metadata": {},
   "outputs": [
    {
     "data": {
      "image/png": "[encoded data removed]",
      "text/plain": [
       "<Figure size 432x288 with 1 Axes>"
      ]
     },
     "metadata": {
      "needs_background": "light"
     },
     "output_type": "display_data"
    },
    {
     "data": {
      "image/png": "[encoded data removed]",
      "text/plain": [
       "<Figure size 432x288 with 1 Axes>"
      ]
     },
     "metadata": {
      "needs_background": "light"
     },
     "output_type": "display_data"
    }
   ],
   "source": [
    "sns.histplot(data=data,x='time_spent_on_the_page')\n",
    "plt.show()\n",
    "sns.boxplot(data=data,x='time_spent_on_the_page')\n",
    "plt.show()"
   ]
  },
  {
   "cell_type": "markdown",
   "id": "b1410063",
   "metadata": {},
   "source": [
    "### Observations:\n",
    "- The boxplot shows no outliers \n",
    "- The data follows a normal distribution \n",
    "- Mean, median and mode are seems too close each other (about 5.38 minutes)"
   ]
  },
  {
   "cell_type": "markdown",
   "id": "1cf7b39f",
   "metadata": {},
   "source": [
    "#### Group"
   ]
  },
  {
   "cell_type": "code",
   "execution_count": 14,
   "id": "f1d1bd60",
   "metadata": {},
   "outputs": [
    {
     "data": {
      "text/plain": [
       "control      50\n",
       "treatment    50\n",
       "Name: group, dtype: int64"
      ]
     },
     "execution_count": 14,
     "metadata": {},
     "output_type": "execute_result"
    }
   ],
   "source": [
    "data['group'].value_counts()"
   ]
  },
  {
   "cell_type": "code",
   "execution_count": 15,
   "id": "7a7dee91",
   "metadata": {
    "scrolled": true
   },
   "outputs": [
    {
     "data": {
      "image/png": "[encoded data removed]",
      "text/plain": [
       "<Figure size 432x288 with 1 Axes>"
      ]
     },
     "metadata": {
      "needs_background": "light"
     },
     "output_type": "display_data"
    }
   ],
   "source": [
    "sns.countplot(data=data,x='group')\n",
    "plt.show()"
   ]
  },
  {
   "cell_type": "markdown",
   "id": "d50558fe",
   "metadata": {},
   "source": [
    "### Observation:\n",
    "The feature \"group\" has 2 unique values control and treatment groups which are distributed equally with 50 for each one"
   ]
  },
  {
   "cell_type": "markdown",
   "id": "4a93756e",
   "metadata": {},
   "source": [
    "#### Landing page"
   ]
  },
  {
   "cell_type": "code",
   "execution_count": 16,
   "id": "0f617bf4",
   "metadata": {},
   "outputs": [
    {
     "data": {
      "text/plain": [
       "new    50\n",
       "old    50\n",
       "Name: landing_page, dtype: int64"
      ]
     },
     "execution_count": 16,
     "metadata": {},
     "output_type": "execute_result"
    }
   ],
   "source": [
    "data['landing_page'].value_counts()"
   ]
  },
  {
   "cell_type": "code",
   "execution_count": 17,
   "id": "91c4f3cc",
   "metadata": {},
   "outputs": [
    {
     "data": {
      "image/png": "[encoded data removed]",
      "text/plain": [
       "<Figure size 432x288 with 1 Axes>"
      ]
     },
     "metadata": {
      "needs_background": "light"
     },
     "output_type": "display_data"
    }
   ],
   "source": [
    "sns.countplot(data=data,x='landing_page')\n",
    "plt.show()"
   ]
  },
  {
   "cell_type": "markdown",
   "id": "8d86cabf",
   "metadata": {},
   "source": [
    "### Observation:\n",
    "The feature \"landing page\" has 2 unique values old and new groups which are distributed equally with 50 for each one"
   ]
  },
  {
   "cell_type": "markdown",
   "id": "880da2ac",
   "metadata": {},
   "source": [
    "#### Converted"
   ]
  },
  {
   "cell_type": "code",
   "execution_count": 18,
   "id": "9e00103c",
   "metadata": {},
   "outputs": [
    {
     "data": {
      "text/plain": [
       "yes    54\n",
       "no     46\n",
       "Name: converted, dtype: int64"
      ]
     },
     "execution_count": 18,
     "metadata": {},
     "output_type": "execute_result"
    }
   ],
   "source": [
    "data['converted'].value_counts()"
   ]
  },
  {
   "cell_type": "code",
   "execution_count": 19,
   "id": "ece40514",
   "metadata": {},
   "outputs": [
    {
     "data": {
      "image/png": "[encoded data removed]",
      "text/plain": [
       "<Figure size 432x288 with 1 Axes>"
      ]
     },
     "metadata": {
      "needs_background": "light"
     },
     "output_type": "display_data"
    }
   ],
   "source": [
    "sns.countplot(data=data,x='converted')\n",
    "plt.show()"
   ]
  },
  {
   "cell_type": "markdown",
   "id": "4244451a",
   "metadata": {},
   "source": [
    "### Observations:\n",
    "- Group column has only two values \"yes\" and \"no\" \n",
    "- The frequency for yes is higher than for no (54 vs 46)"
   ]
  },
  {
   "cell_type": "markdown",
   "id": "ec92d386",
   "metadata": {},
   "source": [
    "#### Language preferred"
   ]
  },
  {
   "cell_type": "code",
   "execution_count": 20,
   "id": "615f9aaf",
   "metadata": {},
   "outputs": [
    {
     "data": {
      "text/plain": [
       "French     34\n",
       "Spanish    34\n",
       "English    32\n",
       "Name: language_preferred, dtype: int64"
      ]
     },
     "execution_count": 20,
     "metadata": {},
     "output_type": "execute_result"
    }
   ],
   "source": [
    "data['language_preferred'].value_counts()"
   ]
  },
  {
   "cell_type": "code",
   "execution_count": 21,
   "id": "73b588d9",
   "metadata": {},
   "outputs": [
    {
     "data": {
      "image/png": "[encoded data removed]",
      "text/plain": [
       "<Figure size 432x288 with 1 Axes>"
      ]
     },
     "metadata": {
      "needs_background": "light"
     },
     "output_type": "display_data"
    }
   ],
   "source": [
    "sns.countplot(data=data,x='language_preferred')\n",
    "plt.show()"
   ]
  },
  {
   "cell_type": "markdown",
   "id": "7e36894b",
   "metadata": {},
   "source": [
    "### Observations:\n",
    "- The feature \"language preferred\" has 3 unique values spanish, english, and french, with both french and spanish having the highest frequencies of 34.\n",
    "- English language is the less preferred."
   ]
  },
  {
   "cell_type": "markdown",
   "id": "fad2de2f",
   "metadata": {
    "id": "fad2de2f"
   },
   "source": [
    "### Bivariate Analysis"
   ]
  },
  {
   "cell_type": "markdown",
   "id": "3d05c84e",
   "metadata": {},
   "source": [
    "#### Group vs Time spent on the page"
   ]
  },
  {
   "cell_type": "code",
   "execution_count": 22,
   "id": "b1396a29",
   "metadata": {},
   "outputs": [
    {
     "data": {
      "text/plain": [
       "group\n",
       "control      4.5324\n",
       "treatment    6.2232\n",
       "Name: time_spent_on_the_page, dtype: float64"
      ]
     },
     "execution_count": 22,
     "metadata": {},
     "output_type": "execute_result"
    }
   ],
   "source": [
    "data.groupby(['group'])['time_spent_on_the_page'].mean()"
   ]
  },
  {
   "cell_type": "code",
   "execution_count": 23,
   "id": "78409324",
   "metadata": {},
   "outputs": [
    {
     "data": {
      "text/plain": [
       "<AxesSubplot:xlabel='group', ylabel='time_spent_on_the_page'>"
      ]
     },
     "execution_count": 23,
     "metadata": {},
     "output_type": "execute_result"
    },
    {
     "data": {
      "image/png": "[encoded data removed]",
      "text/plain": [
       "<Figure size 432x288 with 1 Axes>"
      ]
     },
     "metadata": {
      "needs_background": "light"
     },
     "output_type": "display_data"
    }
   ],
   "source": [
    "sns.barplot(data = data, x = 'group', y = 'time_spent_on_the_page')"
   ]
  },
  {
   "cell_type": "markdown",
   "id": "61b821cc",
   "metadata": {},
   "source": [
    "### Observation:\n",
    "The treatment group(those exposed to the new landing page) are more likely to spend more time on the page."
   ]
  },
  {
   "cell_type": "markdown",
   "id": "9bdd2465",
   "metadata": {
    "id": "58e9a1d0"
   },
   "source": [
    "#### Landing page vs Time spent on the page"
   ]
  },
  {
   "cell_type": "code",
   "execution_count": 24,
   "id": "3a1943af",
   "metadata": {},
   "outputs": [
    {
     "data": {
      "text/plain": [
       "landing_page\n",
       "new    6.2232\n",
       "old    4.5324\n",
       "Name: time_spent_on_the_page, dtype: float64"
      ]
     },
     "execution_count": 24,
     "metadata": {},
     "output_type": "execute_result"
    }
   ],
   "source": [
    "data.groupby(['landing_page'])['time_spent_on_the_page'].mean()"
   ]
  },
  {
   "cell_type": "code",
   "execution_count": 25,
   "id": "fb3e0aff",
   "metadata": {},
   "outputs": [
    {
     "data": {
      "text/plain": [
       "<AxesSubplot:xlabel='landing_page', ylabel='time_spent_on_the_page'>"
      ]
     },
     "execution_count": 25,
     "metadata": {},
     "output_type": "execute_result"
    },
    {
     "data": {
      "image/png": "[encoded data removed]",
      "text/plain": [
       "<Figure size 432x288 with 1 Axes>"
      ]
     },
     "metadata": {
      "needs_background": "light"
     },
     "output_type": "display_data"
    }
   ],
   "source": [
    "sns.barplot(data = data, x = 'landing_page', y = 'time_spent_on_the_page')"
   ]
  },
  {
   "cell_type": "markdown",
   "id": "fea47d24",
   "metadata": {},
   "source": [
    "### Observation:\n",
    "Users exposed to the new landing page spend more time on average than those on the old landing page."
   ]
  },
  {
   "cell_type": "markdown",
   "id": "e1a84e39",
   "metadata": {},
   "source": [
    "#### Conversion status vs Time spent on the page"
   ]
  },
  {
   "cell_type": "code",
   "execution_count": 26,
   "id": "6a066492",
   "metadata": {},
   "outputs": [
    {
     "data": {
      "text/plain": [
       "converted\n",
       "no     3.915870\n",
       "yes    6.623148\n",
       "Name: time_spent_on_the_page, dtype: float64"
      ]
     },
     "execution_count": 26,
     "metadata": {},
     "output_type": "execute_result"
    }
   ],
   "source": [
    "data.groupby(['converted'])['time_spent_on_the_page'].mean()"
   ]
  },
  {
   "cell_type": "code",
   "execution_count": 27,
   "id": "deed7890",
   "metadata": {},
   "outputs": [
    {
     "data": {
      "image/png": "[encoded data removed]",
      "text/plain": [
       "<Figure size 432x288 with 1 Axes>"
      ]
     },
     "metadata": {
      "needs_background": "light"
     },
     "output_type": "display_data"
    }
   ],
   "source": [
    "sns.barplot(data = df, x ='converted', y ='time_spent_on_the_page')\n",
    "plt.show()"
   ]
  },
  {
   "cell_type": "markdown",
   "id": "ef8cc1d7",
   "metadata": {},
   "source": [
    "### Observation:\n",
    "- Those users that decided to be subscribers of the new page on average spent more time on the page as compared to those who did not convert."
   ]
  },
  {
   "cell_type": "markdown",
   "id": "c6003233",
   "metadata": {},
   "source": [
    "#### Language preferred vs Time spent on the page"
   ]
  },
  {
   "cell_type": "code",
   "execution_count": 28,
   "id": "4f788000",
   "metadata": {},
   "outputs": [
    {
     "data": {
      "text/plain": [
       "language_preferred\n",
       "English    5.559062\n",
       "French     5.253235\n",
       "Spanish    5.331765\n",
       "Name: time_spent_on_the_page, dtype: float64"
      ]
     },
     "execution_count": 28,
     "metadata": {},
     "output_type": "execute_result"
    }
   ],
   "source": [
    "data.groupby(['language_preferred'])['time_spent_on_the_page'].mean()"
   ]
  },
  {
   "cell_type": "code",
   "execution_count": 29,
   "id": "e7cad8e3",
   "metadata": {
    "scrolled": true
   },
   "outputs": [
    {
     "data": {
      "text/plain": [
       "<AxesSubplot:xlabel='time_spent_on_the_page', ylabel='language_preferred'>"
      ]
     },
     "execution_count": 29,
     "metadata": {},
     "output_type": "execute_result"
    },
    {
     "data": {
      "image/png": "[encoded data removed]",
      "text/plain": [
       "<Figure size 432x288 with 1 Axes>"
      ]
     },
     "metadata": {
      "needs_background": "light"
     },
     "output_type": "display_data"
    }
   ],
   "source": [
    "sns.swarmplot(x=\"time_spent_on_the_page\", y=\"language_preferred\", palette=[\"blue\",\"yellow\", \"indianred\"], data=data)"
   ]
  },
  {
   "cell_type": "markdown",
   "id": "75fddebd",
   "metadata": {},
   "source": [
    "### Observations:\n",
    "- Among the different languages English, French, and Spanish the average time spent on the page seems relatively the same.\n",
    "- More English language readers converted to subscribers as compared to the other two languages, although the difference is negligible."
   ]
  },
  {
   "cell_type": "markdown",
   "id": "27906576",
   "metadata": {
    "id": "27906576"
   },
   "source": [
    "## 1. Do the users spend more time on the new landing page than the existing landing page?"
   ]
  },
  {
   "cell_type": "markdown",
   "id": "e5fdf0c8",
   "metadata": {
    "id": "e5fdf0c8"
   },
   "source": [
    "### Perform Visual Analysis"
   ]
  },
  {
   "cell_type": "code",
   "execution_count": 30,
   "id": "24e2eeac",
   "metadata": {
    "scrolled": true
   },
   "outputs": [
    {
     "data": {
      "image/png": "[encoded data removed]",
      "text/plain": [
       "<Figure size 504x504 with 1 Axes>"
      ]
     },
     "metadata": {
      "needs_background": "light"
     },
     "output_type": "display_data"
    }
   ],
   "source": [
    "plt.figure(figsize=(7, 7))\n",
    "sns.histplot(data.time_spent_on_the_page,kde=True);\n",
    "plt.show()"
   ]
  },
  {
   "cell_type": "markdown",
   "id": "bcdf3dcb",
   "metadata": {},
   "source": [
    "### Observation:\n",
    "- The time spent on the web pages presents a normal distribution and the most common time falls between 5 and 7 minutes."
   ]
  },
  {
   "cell_type": "code",
   "execution_count": 31,
   "id": "af357ef7",
   "metadata": {},
   "outputs": [
    {
     "data": {
      "text/plain": [
       "<AxesSubplot:xlabel='landing_page', ylabel='time_spent_on_the_page'>"
      ]
     },
     "execution_count": 31,
     "metadata": {},
     "output_type": "execute_result"
    },
    {
     "data": {
      "image/png": "[encoded data removed]",
      "text/plain": [
       "<Figure size 432x288 with 1 Axes>"
      ]
     },
     "metadata": {
      "needs_background": "light"
     },
     "output_type": "display_data"
    }
   ],
   "source": [
    "sns.barplot(data = df, x = 'landing_page', y = 'time_spent_on_the_page', hue = 'converted')"
   ]
  },
  {
   "cell_type": "markdown",
   "id": "e582f4a9",
   "metadata": {},
   "source": [
    "#### Observations: \n",
    "- The barplot shows that visitors to the new landing page are more likely to convert than visitors to the old landing page.\n",
    "- Those who do convert demonstrate higher time averages."
   ]
  },
  {
   "cell_type": "markdown",
   "id": "56b3dafd",
   "metadata": {
    "id": "56b3dafd"
   },
   "source": [
    "### Step 1: Define the null and alternate hypotheses"
   ]
  },
  {
   "cell_type": "markdown",
   "id": "81d6c5f6",
   "metadata": {},
   "source": [
    "The null and alternative hypotheses can be formulated as:\n",
    "- $H_0:$ Null Hypothesis:  Users spend equal time on the old and new landing page.\n",
    "- $H_a:$ Alternate Hypothesis:  Users spend greater amount of time on the new landing page."
   ]
  },
  {
   "cell_type": "markdown",
   "id": "bb61db5d",
   "metadata": {},
   "source": [
    "Let $\\mu_1$ and $\\mu_2$  the mean time spent on the old and new landing page respectively.\n",
    "Mathematically, the null and alternate hypotheses can be written as"
   ]
  },
  {
   "cell_type": "markdown",
   "id": "e3750bd3",
   "metadata": {},
   "source": [
    "$H_0: \\mu_1 = \\mu_2 $\n",
    "\n",
    "$H_a: \\mu_1 < \\mu_2 $"
   ]
  },
  {
   "cell_type": "markdown",
   "id": "c7ee4907",
   "metadata": {
    "id": "c7ee4907"
   },
   "source": [
    "### Step 2: Select Appropriate test"
   ]
  },
  {
   "cell_type": "code",
   "execution_count": 32,
   "id": "5d5f79e5",
   "metadata": {},
   "outputs": [
    {
     "data": {
      "text/plain": [
       "Index(['time_spent_on_the_page', 'landing_page'], dtype='object')"
      ]
     },
     "execution_count": 32,
     "metadata": {},
     "output_type": "execute_result"
    }
   ],
   "source": [
    "data2 = data[[\"time_spent_on_the_page\", \"landing_page\"]].copy()\n",
    "data2.columns"
   ]
  },
  {
   "cell_type": "code",
   "execution_count": 33,
   "id": "bf4adce7",
   "metadata": {},
   "outputs": [
    {
     "name": "stdout",
     "output_type": "stream",
     "text": [
      "6.2232\n",
      "1.8170310387878263\n"
     ]
    }
   ],
   "source": [
    "# estimate the mean and standard deviation for new landing page\n",
    "new_time1 = data2[data2[\"landing_page\"] == \"new\"][\"time_spent_on_the_page\"].mean()\n",
    "print(new_time1)\n",
    "\n",
    "new_time2 = data2[data2[\"landing_page\"] == \"new\"][\"time_spent_on_the_page\"].std()\n",
    "print(new_time2)"
   ]
  },
  {
   "cell_type": "code",
   "execution_count": 34,
   "id": "28ea1944",
   "metadata": {},
   "outputs": [
    {
     "name": "stdout",
     "output_type": "stream",
     "text": [
      "4.532400000000001\n",
      "2.581974849306046\n"
     ]
    }
   ],
   "source": [
    "# estimate the mean and standard deviation for old landing page\n",
    "old_time1 = data2[data2[\"landing_page\"] == \"old\"][\"time_spent_on_the_page\"].mean()\n",
    "print(old_time1)\n",
    "\n",
    "old_time2 = data2[data2[\"landing_page\"] == \"old\"][\"time_spent_on_the_page\"].std()\n",
    "print(old_time2)"
   ]
  },
  {
   "cell_type": "markdown",
   "id": "5b4feada",
   "metadata": {},
   "source": [
    "- Based on the hisplot, the time spent on landing pages is measured on a continuous scale.\n",
    "- Looking at the histogram probability density curves, as well as considering larger sample sizes of 50 (Landing page size), normal distribution assumption holds.\n",
    "- Independent populations - As we are taking random samples from population for two different groups (old and new group), the two samples are assumed to be independent.\n",
    "- Since the sample standard deviations are different, the population standard deviations may be assumed to be different."
   ]
  },
  {
   "cell_type": "markdown",
   "id": "e709933c",
   "metadata": {},
   "source": [
    "##### Based on the assumptions above we can use two sample T-test for this problem "
   ]
  },
  {
   "cell_type": "markdown",
   "id": "3f58c9a7",
   "metadata": {
    "id": "3f58c9a7"
   },
   "source": [
    "### Step 3: Decide the significance level"
   ]
  },
  {
   "cell_type": "markdown",
   "id": "92d7d7ee",
   "metadata": {
    "id": "92d7d7ee"
   },
   "source": [
    "As given in the problem statement, we select $\\alpha = 0.05$."
   ]
  },
  {
   "cell_type": "markdown",
   "id": "5fed2eac",
   "metadata": {
    "id": "5fed2eac"
   },
   "source": [
    "### Step 4: Collect and prepare data"
   ]
  },
  {
   "cell_type": "code",
   "execution_count": 35,
   "id": "abccad42",
   "metadata": {
    "id": "f5a59495"
   },
   "outputs": [
    {
     "name": "stdout",
     "output_type": "stream",
     "text": [
      "The New page mean is: 6.22\n",
      "The New page standard deviation is: 1.82\n",
      "The Old page mean is: 4.53\n",
      "The Old page standard deviation is: 2.58\n"
     ]
    }
   ],
   "source": [
    "# From step 2 we have:\n",
    "print(\"The New page mean is:\", round (new_time1,2))\n",
    "print(\"The New page standard deviation is:\", round(new_time2, 2))\n",
    "print(\"The Old page mean is:\", round (old_time1,2))\n",
    "print(\"The Old page standard deviation is:\", round(old_time2, 2))"
   ]
  },
  {
   "cell_type": "markdown",
   "id": "f5c5258d",
   "metadata": {
    "id": "f5c5258d"
   },
   "source": [
    "### Step 5: Calculate the p-value"
   ]
  },
  {
   "cell_type": "code",
   "execution_count": 36,
   "id": "7d045ef6",
   "metadata": {},
   "outputs": [],
   "source": [
    "# create subsetted data frame for new and old landing page users\n",
    "from scipy.stats import ttest_ind\n",
    "new_time = data2[data2[\"landing_page\"] == \"new\"][\"time_spent_on_the_page\"]\n",
    "old_time = data2[data2[\"landing_page\"] == \"old\"][\"time_spent_on_the_page\"]"
   ]
  },
  {
   "cell_type": "code",
   "execution_count": 37,
   "id": "fac8594a",
   "metadata": {
    "id": "fac8594a"
   },
   "outputs": [
    {
     "name": "stdout",
     "output_type": "stream",
     "text": [
      "The p-value is: 0.0001392381225166549\n"
     ]
    }
   ],
   "source": [
    "# calculate the p-value\n",
    "test_stat, p_value = ttest_ind(new_time, old_time, equal_var = False, alternative = \"greater\")\n",
    "print(\"The p-value is:\", p_value)"
   ]
  },
  {
   "cell_type": "markdown",
   "id": "359b12f8",
   "metadata": {
    "id": "359b12f8"
   },
   "source": [
    "### Step 6: Compare the p-value with $\\alpha$"
   ]
  },
  {
   "cell_type": "code",
   "execution_count": 38,
   "id": "7be47289",
   "metadata": {
    "id": "7be47289"
   },
   "outputs": [
    {
     "name": "stdout",
     "output_type": "stream",
     "text": [
      "As the p-value 0.0001392381225166549 is less than the level of significance, we reject the null hypothesis.\n"
     ]
    }
   ],
   "source": [
    "if p_value < 0.05:\n",
    "    print(f'As the p-value {p_value} is less than the level of significance, we reject the null hypothesis.')\n",
    "else:\n",
    "    print(f'As the p-value {p_value} is greater than the level of significance, we fail to reject the null hypothesis.')"
   ]
  },
  {
   "cell_type": "markdown",
   "id": "d9affc84",
   "metadata": {
    "id": "d9affc84"
   },
   "source": [
    "### Step 7:  Draw inference"
   ]
  },
  {
   "cell_type": "markdown",
   "id": "6b16dd4b",
   "metadata": {
    "id": "6b16dd4b"
   },
   "source": [
    "In this scenario, the p value is 0.00014 which is less than the 0.05. Hence, we reject the null hypothesis.\n",
    "\n",
    "This means that Users spend greater amount of time on the new landing page"
   ]
  },
  {
   "cell_type": "markdown",
   "id": "353e9d24",
   "metadata": {
    "id": "353e9d24"
   },
   "source": [
    "## 2. Is the conversion rate (the proportion of users who visit the landing page and get converted) for the new page greater than the conversion rate for the old page?"
   ]
  },
  {
   "cell_type": "markdown",
   "id": "c069e009",
   "metadata": {
    "id": "e5fdf0c8"
   },
   "source": [
    "### Perform Visual Analysis"
   ]
  },
  {
   "cell_type": "code",
   "execution_count": 39,
   "id": "bbde8625",
   "metadata": {},
   "outputs": [
    {
     "data": {
      "image/png": "[encoded data removed]",
      "text/plain": [
       "<Figure size 432x288 with 1 Axes>"
      ]
     },
     "metadata": {
      "needs_background": "light"
     },
     "output_type": "display_data"
    }
   ],
   "source": [
    "sns.countplot(data = data, x=\"landing_page\",hue=\"converted\");"
   ]
  },
  {
   "cell_type": "markdown",
   "id": "d6044c11",
   "metadata": {},
   "source": [
    "### Observation:\n",
    "- visually, users engaging with the new landing page are more likely to convert than those using the old landing page.\n",
    "- \"landing_page\" and \"converted\" are two categorical variables. "
   ]
  },
  {
   "cell_type": "markdown",
   "id": "01ec8e64",
   "metadata": {
    "id": "b7f52898"
   },
   "source": [
    "### Step 1: Define the null and alternate hypotheses"
   ]
  },
  {
   "cell_type": "markdown",
   "id": "2f85e7b8",
   "metadata": {},
   "source": [
    "The null and alternative hypotheses can be formulated as:\n",
    "- $H_0:$ Null Hypothesis: The conversion rate (the proportion of users who visit the landing page and get converted) for the new page is the same as the conversion rate for the old page. \n",
    "- $H_a:$ Alternate Hypothesis: The conversion rate for the new page is greater than the conversion rate for the old page."
   ]
  },
  {
   "cell_type": "markdown",
   "id": "dc3dd885",
   "metadata": {},
   "source": [
    "Let p1 and p2 be the conversion rates for the old and time landing pages\n",
    "Mathematically, the null and alternate hypotheses can be written as"
   ]
  },
  {
   "cell_type": "markdown",
   "id": "dde23baa",
   "metadata": {},
   "source": [
    "$H_0: p1 = p2 $\n",
    "\n",
    "$H_a: p1 < p2 $"
   ]
  },
  {
   "cell_type": "markdown",
   "id": "6d24e1a4",
   "metadata": {
    "id": "c7ee4907"
   },
   "source": [
    "### Step 2: Select Appropriate test"
   ]
  },
  {
   "cell_type": "code",
   "execution_count": 40,
   "id": "1fb93f95",
   "metadata": {},
   "outputs": [
    {
     "data": {
      "text/plain": [
       "landing_page     \n",
       "new           yes    33\n",
       "              no     17\n",
       "old           no     29\n",
       "              yes    21\n",
       "Name: converted, dtype: int64"
      ]
     },
     "execution_count": 40,
     "metadata": {},
     "output_type": "execute_result"
    }
   ],
   "source": [
    "#find the number of users who converted among both groups, old landing page and new landing page\n",
    "data.groupby(['landing_page'])['converted'].value_counts()"
   ]
  },
  {
   "cell_type": "markdown",
   "id": "b053da51",
   "metadata": {},
   "source": [
    "### Observations:\n",
    "- Test for equality of two population proportions \n",
    "- Independent Populations (Old and new landing pages)\n",
    "\n",
    "Due to the fulfilment of the above 2 qualities, the Two proportions z-test selected."
   ]
  },
  {
   "cell_type": "markdown",
   "id": "55c74006",
   "metadata": {},
   "source": [
    "### Step 3: Decide the significance level"
   ]
  },
  {
   "cell_type": "markdown",
   "id": "06aa711a",
   "metadata": {},
   "source": [
    "As given in the problem statement, we select $\\alpha = 0.05$."
   ]
  },
  {
   "cell_type": "markdown",
   "id": "bdc30b21",
   "metadata": {
    "id": "5fed2eac"
   },
   "source": [
    "### Step 4: Collect and prepare data"
   ]
  },
  {
   "cell_type": "code",
   "execution_count": 41,
   "id": "9f3d138e",
   "metadata": {},
   "outputs": [
    {
     "name": "stdout",
     "output_type": "stream",
     "text": [
      "The numbers of new_converted and old_converted are 33 and 21 respectively\n",
      "The total number users on the new and old page are 50 and 50 respectively\n"
     ]
    }
   ],
   "source": [
    "# get the number of converted users in the groups\n",
    "new_converted = data[data[\"group\"] == \"treatment\"][\"converted\"].value_counts()[\"yes\"]\n",
    "old_converted = data[data[\"group\"] == \"control\"][\"converted\"].value_counts()[\"yes\"]\n",
    "print(f'The numbers of new_converted and old_converted are {new_converted} and {old_converted} respectively')\n",
    "#count the number of the landing page old and new\n",
    "n_new = data.landing_page.value_counts()['new']\n",
    "n_old = data.landing_page.value_counts()['old']\n",
    "print (f'The total number users on the new and old page are {n_new} and {n_old} respectively')"
   ]
  },
  {
   "cell_type": "code",
   "execution_count": 42,
   "id": "bf0f5fc5",
   "metadata": {},
   "outputs": [
    {
     "name": "stdout",
     "output_type": "stream",
     "text": [
      "The conversion rates for new landing page and old landing page are 0.66 and 0.42 respectively.\n"
     ]
    }
   ],
   "source": [
    "p1 = float(round(new_converted/50, 2))\n",
    "p2 = float(round(old_converted/50, 2))\n",
    "print(f'The conversion rates for new landing page and old landing page are {p1} and {p2} respectively.')"
   ]
  },
  {
   "cell_type": "markdown",
   "id": "5d11726f",
   "metadata": {},
   "source": [
    "### Observation:\n",
    "The proportions in the sample are greater for the new landing page. Let's conduct the test to see if this is significant."
   ]
  },
  {
   "cell_type": "markdown",
   "id": "33a7bbbb",
   "metadata": {
    "id": "f5c5258d"
   },
   "source": [
    "### Step 5: Calculate the p-value"
   ]
  },
  {
   "cell_type": "code",
   "execution_count": 43,
   "id": "efb766a8",
   "metadata": {},
   "outputs": [
    {
     "name": "stdout",
     "output_type": "stream",
     "text": [
      "The p-value is 0.008026308204056278\n"
     ]
    }
   ],
   "source": [
    "# import the required fuction\n",
    "from statsmodels.stats.proportion import proportions_ztest\n",
    "stat, p_value = proportions_ztest([new_converted, old_converted], [n_new, n_old], alternative = 'larger')\n",
    "\n",
    "# print the p-value\n",
    "print('The p-value is ' + str(p_value))"
   ]
  },
  {
   "cell_type": "markdown",
   "id": "a22f76eb",
   "metadata": {
    "id": "359b12f8"
   },
   "source": [
    "### Step 6: Compare the p-value with $\\alpha$"
   ]
  },
  {
   "cell_type": "code",
   "execution_count": 44,
   "id": "c89a6151",
   "metadata": {},
   "outputs": [
    {
     "name": "stdout",
     "output_type": "stream",
     "text": [
      "As the p-value 0.008026308204056278 is less than the level of significance, we reject the null hypothesis.\n"
     ]
    }
   ],
   "source": [
    "if p_value < 0.05:\n",
    "    print(f'As the p-value {p_value} is less than the level of significance, we reject the null hypothesis.')\n",
    "else:\n",
    "    print(f'As the p-value {p_value} is greater than the level of significance, we fail to reject the null hypothesis.')"
   ]
  },
  {
   "cell_type": "markdown",
   "id": "f777ae19",
   "metadata": {
    "id": "d9affc84"
   },
   "source": [
    "### Step 7:  Draw inference"
   ]
  },
  {
   "cell_type": "markdown",
   "id": "d0cc67bc",
   "metadata": {},
   "source": [
    "The conversion rate for the new page is greater than the conversion rate for the old page."
   ]
  },
  {
   "cell_type": "markdown",
   "id": "d49bfa2d",
   "metadata": {
    "id": "d49bfa2d"
   },
   "source": [
    "## 3. Is the conversion and preferred language are independent or related?"
   ]
  },
  {
   "cell_type": "markdown",
   "id": "1eb8ce15",
   "metadata": {
    "id": "e5fdf0c8"
   },
   "source": [
    "### Perform Visual Analysis"
   ]
  },
  {
   "cell_type": "code",
   "execution_count": 45,
   "id": "882047c6",
   "metadata": {
    "scrolled": true
   },
   "outputs": [
    {
     "data": {
      "text/plain": [
       "<seaborn.axisgrid.FacetGrid at 0x2406122a8f0>"
      ]
     },
     "execution_count": 45,
     "metadata": {},
     "output_type": "execute_result"
    },
    {
     "data": {
      "image/png": "[encoded data removed]",
      "text/plain": [
       "<Figure size 1080x360 with 3 Axes>"
      ]
     },
     "metadata": {
      "needs_background": "light"
     },
     "output_type": "display_data"
    }
   ],
   "source": [
    "sns.catplot(data = data, x = 'converted', col = 'language_preferred', kind = 'count')"
   ]
  },
  {
   "cell_type": "markdown",
   "id": "3ef82465",
   "metadata": {},
   "source": [
    "### Observation:\n",
    "Those who speak French and Spanish don't seem to be affected very much by the converted status, however users who speak English are more likely to have their experience affected by it."
   ]
  },
  {
   "cell_type": "markdown",
   "id": "9e1a71ac",
   "metadata": {
    "id": "b7f52898"
   },
   "source": [
    "### Step 1: Define the null and alternate hypotheses"
   ]
  },
  {
   "cell_type": "markdown",
   "id": "c09a1b06",
   "metadata": {},
   "source": [
    "The null and alternative hypotheses can be formulated as:\n",
    "- $H_0:$ Null Hypothesis:  The converted status is independent of the preferred language. \n",
    "- $H_a:$ Alternate Hypothesis: The converted status depends on the preferred language."
   ]
  },
  {
   "cell_type": "markdown",
   "id": "0b4683e5",
   "metadata": {
    "id": "c7ee4907"
   },
   "source": [
    "### Step 2: Select Appropriate test"
   ]
  },
  {
   "cell_type": "markdown",
   "id": "b5be6565",
   "metadata": {},
   "source": [
    "Observable characteristics:\n",
    "- Categorical Variables: language_preferred and converted.\n",
    "- As we need to check the independence between converted status and preferred language, the test selected is the Chi Square Test for Independence and check the data for those two variables."
   ]
  },
  {
   "cell_type": "markdown",
   "id": "9acea2ba",
   "metadata": {},
   "source": [
    "### Step 3: Decide the significance level"
   ]
  },
  {
   "cell_type": "markdown",
   "id": "70ddfc34",
   "metadata": {},
   "source": [
    "As given in the problem statement, we select $\\alpha = 0.05$."
   ]
  },
  {
   "cell_type": "markdown",
   "id": "ef3978d8",
   "metadata": {
    "id": "5fed2eac"
   },
   "source": [
    "### Step 4: Collect and prepare data"
   ]
  },
  {
   "cell_type": "code",
   "execution_count": 46,
   "id": "717a5514",
   "metadata": {},
   "outputs": [
    {
     "data": {
      "text/html": [
       "<div>\n",
       "<style scoped>\n",
       "    .dataframe tbody tr th:only-of-type {\n",
       "        vertical-align: middle;\n",
       "    }\n",
       "\n",
       "    .dataframe tbody tr th {\n",
       "        vertical-align: top;\n",
       "    }\n",
       "\n",
       "    .dataframe thead th {\n",
       "        text-align: right;\n",
       "    }\n",
       "</style>\n",
       "<table border=\"1\" class=\"dataframe\">\n",
       "  <thead>\n",
       "    <tr style=\"text-align: right;\">\n",
       "      <th>language_preferred</th>\n",
       "      <th>English</th>\n",
       "      <th>French</th>\n",
       "      <th>Spanish</th>\n",
       "    </tr>\n",
       "    <tr>\n",
       "      <th>converted</th>\n",
       "      <th></th>\n",
       "      <th></th>\n",
       "      <th></th>\n",
       "    </tr>\n",
       "  </thead>\n",
       "  <tbody>\n",
       "    <tr>\n",
       "      <th>no</th>\n",
       "      <td>11</td>\n",
       "      <td>19</td>\n",
       "      <td>16</td>\n",
       "    </tr>\n",
       "    <tr>\n",
       "      <th>yes</th>\n",
       "      <td>21</td>\n",
       "      <td>15</td>\n",
       "      <td>18</td>\n",
       "    </tr>\n",
       "  </tbody>\n",
       "</table>\n",
       "</div>"
      ],
      "text/plain": [
       "language_preferred  English  French  Spanish\n",
       "converted                                   \n",
       "no                       11      19       16\n",
       "yes                      21      15       18"
      ]
     },
     "execution_count": 46,
     "metadata": {},
     "output_type": "execute_result"
    }
   ],
   "source": [
    "# create a contingency table showing the distribution of the two categorical variables\n",
    "lang_conv = pd.crosstab(data['converted'],data['language_preferred'])\n",
    "lang_conv"
   ]
  },
  {
   "cell_type": "markdown",
   "id": "d962c1e0",
   "metadata": {
    "id": "f5c5258d"
   },
   "source": [
    "### Step 5: Calculate the p-value"
   ]
  },
  {
   "cell_type": "code",
   "execution_count": 47,
   "id": "20d1a192",
   "metadata": {},
   "outputs": [
    {
     "name": "stdout",
     "output_type": "stream",
     "text": [
      "The p-value is 0.21298887487543447\n"
     ]
    }
   ],
   "source": [
    "# import the required function\n",
    "from scipy.stats import chi2_contingency\n",
    "\n",
    "# find the p-value\n",
    "chi, p_value, dof, expected = chi2_contingency(lang_conv)\n",
    "print('The p-value is', p_value)"
   ]
  },
  {
   "cell_type": "markdown",
   "id": "67c492d9",
   "metadata": {
    "id": "359b12f8"
   },
   "source": [
    "### Step 6: Compare the p-value with $\\alpha$"
   ]
  },
  {
   "cell_type": "code",
   "execution_count": 48,
   "id": "45e425fb",
   "metadata": {},
   "outputs": [
    {
     "name": "stdout",
     "output_type": "stream",
     "text": [
      "As the p-value 0.21298887487543447 is greater than the level of significance, we fail to reject the null hypothesis.\n"
     ]
    }
   ],
   "source": [
    "# print the conclusion based on p-value\n",
    "if p_value < 0.05:\n",
    "    print(f'As the p-value {p_value} is less than the level of significance, we reject the null hypothesis.')\n",
    "else:\n",
    "    print(f'As the p-value {p_value} is greater than the level of significance, we fail to reject the null hypothesis.')"
   ]
  },
  {
   "cell_type": "markdown",
   "id": "3a639890",
   "metadata": {
    "id": "d9affc84"
   },
   "source": [
    "### Step 7:  Draw inference"
   ]
  },
  {
   "cell_type": "markdown",
   "id": "4b6739d4",
   "metadata": {
    "id": "b0e63f17"
   },
   "source": [
    "The converted status is independent of the preferred language."
   ]
  },
  {
   "cell_type": "markdown",
   "id": "8d585a90",
   "metadata": {
    "id": "8d585a90"
   },
   "source": [
    "## 4. Is the time spent on the new page same for the different language users?"
   ]
  },
  {
   "cell_type": "markdown",
   "id": "9e2e7841",
   "metadata": {
    "id": "e5fdf0c8"
   },
   "source": [
    "### Perform Visual Analysis"
   ]
  },
  {
   "cell_type": "code",
   "execution_count": 49,
   "id": "b422f395",
   "metadata": {
    "id": "b422f395"
   },
   "outputs": [],
   "source": [
    "# create a new DataFrame for users who got served the new page\n",
    "data_new = data[data['landing_page'] == 'new']"
   ]
  },
  {
   "cell_type": "code",
   "execution_count": 50,
   "id": "455ec279",
   "metadata": {
    "scrolled": true
   },
   "outputs": [
    {
     "data": {
      "image/png": "[encoded data removed]",
      "text/plain": [
       "<Figure size 504x504 with 1 Axes>"
      ]
     },
     "metadata": {
      "needs_background": "light"
     },
     "output_type": "display_data"
    }
   ],
   "source": [
    "# complete the code to visually plot the time spent on the new page for different language users\n",
    "plt.figure(figsize=(7,7))\n",
    "sns.boxplot(x = \"language_preferred\", y = \"time_spent_on_the_page\", data = data_new, palette= \n",
    "['purple','lightgreen','blue'])\n",
    "plt.show()"
   ]
  },
  {
   "cell_type": "code",
   "execution_count": 51,
   "id": "766b53be",
   "metadata": {},
   "outputs": [
    {
     "data": {
      "text/plain": [
       "language_preferred\n",
       "English    6.663750\n",
       "French     6.196471\n",
       "Spanish    5.835294\n",
       "Name: time_spent_on_the_page, dtype: float64"
      ]
     },
     "execution_count": 51,
     "metadata": {},
     "output_type": "execute_result"
    }
   ],
   "source": [
    "# calculate the mean time spent on the new page for different language users\n",
    "data_new.groupby(['language_preferred'])['time_spent_on_the_page'].mean()"
   ]
  },
  {
   "cell_type": "markdown",
   "id": "2d0297fb",
   "metadata": {},
   "source": [
    "### Observation:\n",
    "The average time spent on the pages seems relatively the same among the different language preferences."
   ]
  },
  {
   "cell_type": "markdown",
   "id": "16fa78af",
   "metadata": {
    "id": "b7f52898"
   },
   "source": [
    "### Step 1: Define the null and alternate hypotheses"
   ]
  },
  {
   "cell_type": "markdown",
   "id": "53ed531b",
   "metadata": {},
   "source": [
    "Let $\\mu_1$, $\\mu_2$ and $\\mu_3$ be the be the means of time spent on the new page by English, \n",
    "French and Spanish users respectively.\n",
    "Mathematically, the null and alternate hypotheses can be written as\n",
    "\n",
    "$H_0: \\mu_1 = \\mu_2 = \\mu_3 $\n",
    "\n",
    "$H_a:$ at least one of these means if not the same\n"
   ]
  },
  {
   "cell_type": "markdown",
   "id": "2bf9cf8a",
   "metadata": {
    "id": "c7ee4907"
   },
   "source": [
    "### Step 2: Select Appropriate test"
   ]
  },
  {
   "cell_type": "markdown",
   "id": "5a30a84b",
   "metadata": {},
   "source": [
    "Since the test for means for three populations, One-way ANOVA F test is selected.  In order to decide we first need to verify the normality and equality of variance\n",
    "- For testing of normality, Shapiro-Wilk’s test is applied to the response variable.\n",
    "- For equality of variance, Levene test is applied to the response variable."
   ]
  },
  {
   "cell_type": "markdown",
   "id": "941e7da6",
   "metadata": {},
   "source": [
    "#### Shapiro-Wilk’s test"
   ]
  },
  {
   "cell_type": "markdown",
   "id": "78dd3890",
   "metadata": {},
   "source": [
    "We will test the null hypothesis\n",
    "\n",
    "$H_0:$ Time spent on the new landing page follows a normal distribution\n",
    "\n",
    "$H_a:$ Time spent on the new landing page does not follow a normal distribution"
   ]
  },
  {
   "cell_type": "markdown",
   "id": "82e3aff8",
   "metadata": {},
   "source": [
    "#### Levene’s test"
   ]
  },
  {
   "cell_type": "markdown",
   "id": "a28ce997",
   "metadata": {},
   "source": [
    "We will test the null hypothesis\n",
    "\n",
    "$H_0$: All the population variances are equal against the alternative hypothesis\n",
    "\n",
    "$H_a$: At least one variance is different from the rest"
   ]
  },
  {
   "cell_type": "markdown",
   "id": "b6ad6524",
   "metadata": {},
   "source": [
    "### Step 3: Decide the significance level"
   ]
  },
  {
   "cell_type": "markdown",
   "id": "753c56f5",
   "metadata": {},
   "source": [
    "As given in the problem statement, we select $\\alpha = 0.05$."
   ]
  },
  {
   "cell_type": "markdown",
   "id": "ea568458",
   "metadata": {
    "id": "5fed2eac"
   },
   "source": [
    "### Step 4: Collect and prepare data"
   ]
  },
  {
   "cell_type": "markdown",
   "id": "a1b5c5ec",
   "metadata": {},
   "source": [
    "#### Shapiro-Wilk’s test"
   ]
  },
  {
   "cell_type": "code",
   "execution_count": 52,
   "id": "78e8d715",
   "metadata": {},
   "outputs": [
    {
     "name": "stdout",
     "output_type": "stream",
     "text": [
      "The p-value is 0.8040016293525696\n"
     ]
    }
   ],
   "source": [
    "# Assumption 1: Normality\n",
    "# find the p-value\n",
    "w, p_value = stats.shapiro(data_new[\"time_spent_on_the_page\"]) \n",
    "print('The p-value is', p_value)"
   ]
  },
  {
   "cell_type": "markdown",
   "id": "ab0d7fd9",
   "metadata": {},
   "source": [
    "Since p-value of the test is very large (0.8 > 0.05), we fail to reject the null hypothesis that the response follows the normal distribution."
   ]
  },
  {
   "cell_type": "markdown",
   "id": "f1cfbddd",
   "metadata": {},
   "source": [
    "#### Levene’s test"
   ]
  },
  {
   "cell_type": "code",
   "execution_count": 53,
   "id": "eaca1800",
   "metadata": {},
   "outputs": [
    {
     "name": "stdout",
     "output_type": "stream",
     "text": [
      "The p-value is 0.46711357711340173\n"
     ]
    }
   ],
   "source": [
    "#Assumption 2: Homogeneity of Variance\n",
    "#import the required function\n",
    "from scipy.stats import levene\n",
    "# find the p-value\n",
    "statistic, p_value = stats.levene(data_new[data_new[\"language_preferred\"] == \"English\"][\"time_spent_on_the_page\"],\n",
    "                                  data_new[data_new[\"language_preferred\"] == \"Spanish\"][\"time_spent_on_the_page\"],\n",
    "                                  data_new[data_new[\"language_preferred\"] == \"French\"][\"time_spent_on_the_page\"])\n",
    "print('The p-value is', p_value)"
   ]
  },
  {
   "cell_type": "markdown",
   "id": "b9dc12ac",
   "metadata": {},
   "source": [
    "Since the p-value is large (0.47 > 0.05), we fail to reject the null hypothesis of homogeneity of variances."
   ]
  },
  {
   "cell_type": "markdown",
   "id": "453d1f4e",
   "metadata": {},
   "source": [
    "### Let's test whether the assumptions are satisfied or not\n",
    "\n",
    "* The populations are normally distributed - Yes, the normality assumption is verified using the Shapiro-Wilk’s test.\n",
    "* Samples are independent simple random samples - Yes, we are informed that the collected sample is a simple random sample.\n",
    "* Population variances are equal - Yes, the homogeneity of variance assumption is verified using the Levene's test.\n"
   ]
  },
  {
   "cell_type": "markdown",
   "id": "a6763f5a",
   "metadata": {
    "id": "f5c5258d"
   },
   "source": [
    "### Step 5: Calculate the p-value"
   ]
  },
  {
   "cell_type": "code",
   "execution_count": 54,
   "id": "321815cf",
   "metadata": {},
   "outputs": [
    {
     "name": "stdout",
     "output_type": "stream",
     "text": [
      "The p-value is 0.43204138694325955\n"
     ]
    }
   ],
   "source": [
    "#import the required function\n",
    "from scipy.stats import f_oneway\n",
    "\n",
    "# perform one-way anova test\n",
    "test_stat, p_value = f_oneway(data_new.loc[data_new['language_preferred'] == 'English', 'time_spent_on_the_page'],\n",
    "                              data_new.loc[data_new['language_preferred'] == 'French', 'time_spent_on_the_page'],\n",
    "                              data_new.loc[data_new['language_preferred'] == 'Spanish', 'time_spent_on_the_page'])\n",
    "print('The p-value is ' + str(p_value))\n"
   ]
  },
  {
   "cell_type": "markdown",
   "id": "b778165c",
   "metadata": {
    "id": "359b12f8"
   },
   "source": [
    "### Step 6: Compare the p-value with $\\alpha$"
   ]
  },
  {
   "cell_type": "code",
   "execution_count": 55,
   "id": "9df3c8ea",
   "metadata": {},
   "outputs": [
    {
     "name": "stdout",
     "output_type": "stream",
     "text": [
      "As the p-value 0.43204138694325955 is greater than the level of significance, we fail to reject the null hypothesis.\n"
     ]
    }
   ],
   "source": [
    "if p_value < 0.05:\n",
    "    print(f'As the p-value {p_value} is less than the level of significance, we reject the null hypothesis.')\n",
    "else:\n",
    "    print(f'As the p-value {p_value} is greater than the level of significance, we fail to reject the null hypothesis.')"
   ]
  },
  {
   "cell_type": "markdown",
   "id": "2c0ffa23",
   "metadata": {
    "id": "d9affc84"
   },
   "source": [
    "### Step 7:  Draw inference"
   ]
  },
  {
   "cell_type": "markdown",
   "id": "efdcd083",
   "metadata": {},
   "source": [
    " The time averages on the new landing page for the different languages are relatively the same"
   ]
  },
  {
   "cell_type": "markdown",
   "id": "3acbc947",
   "metadata": {
    "id": "3acbc947"
   },
   "source": [
    "## Conclusion and Business Recommendations"
   ]
  },
  {
   "cell_type": "markdown",
   "id": "21fb1063",
   "metadata": {
    "id": "21fb1063"
   },
   "source": [
    "### Exploratory Data Analysis\n",
    "- There are 2 groups: Control & Treatment that have 50 users each. All the users in the control group were shown the old landing page, while all the users in the treatment group were shown the new landing page.\n",
    "- Overall, the average time spent on the web pages is 5.4 minutes.\n",
    "- Since 54% of users wre converted to the new web page, the users spent more time on the new web page compared to the old one.\n",
    "- There are apporximately equal number of English, French and Spanish preferring users (32, 34 and 34) in the dataset. Conversion when on the new landing page is very strong among users prefering French and marginally poor for users prefering English.  \n",
    "- The barplot were shown the new landing page spent more time on the page than those who were shown the old page.\n",
    "- The treatment group (those exposed to the new landing page) are more likely to spend more time on the page.\n",
    "- Users that coverted to subscribers seem to have spent a greater amount of time on the landing page as compared to those who did not convert.\n",
    "- The time spent on the page seems to be very similar across the preferred languages.\n",
    "- Though the difference is small, more English-language readers became paying subscribers than those reading in each of the other two languages."
   ]
  },
  {
   "cell_type": "markdown",
   "id": "67aab9ca",
   "metadata": {},
   "source": [
    "### Statistical analysis\n",
    "\n",
    "- With a two-sample T-test for equality of means and unequal standard deviation, we found that the average time spent on the new landing page is greater than the average time spent on the old landing page. \n",
    "- Users of English, French, and Spanish spend almost the similar mean time 6.66 mins, 6.19 mins, and 5.83 mins, respectively.\n",
    "- Using a two proportion Z-test, we obtained statistical evidence supporting the assertion that the new landing page's conversion rate (66%) is greater than the conversion rate (42%) of the old landing page.\n",
    "- Using a chi-square test, we have collected sufficient data to draw the conclusion that the language used has no noticeable impact on the percentage of visitors who become paying subscribers or the total time spent on the website.\n",
    "- One-way ANOVA Test results show no significant difference in average time spent on page between English, Spanish, and French users. Normality and equality of variances assumptions for ANOVA were tested using Shapiro-Wilk’s test and Levene’s test respectively."
   ]
  },
  {
   "cell_type": "markdown",
   "id": "2be16f39",
   "metadata": {},
   "source": [
    "### Recommendations\n",
    "- Creating a new landing page was a smart decision for the organization, as our data shows that subscribers have increased and users are spending more time there.\n",
    "- Even while the mean time spent by English preferring users on the new landing page is higher than old landing page, and the same was true for Spanish and French speakers, the conversion rate was somewhat lower on the new landing page, which is something that should be addressed to the design team. Therefore, we need more research and information collection."
   ]
  },
  {
   "cell_type": "code",
   "execution_count": null,
   "id": "0734aa9c",
   "metadata": {},
   "outputs": [],
   "source": []
  }
 ],
 "metadata": {
  "colab": {
   "collapsed_sections": [
    "a6a3d218",
    "6970dd99",
    "9d75cfa2",
    "68f3b2c9",
    "fad2de2f",
    "27906576",
    "e5fdf0c8",
    "56b3dafd",
    "c7ee4907",
    "3f58c9a7",
    "5fed2eac",
    "f5c5258d",
    "359b12f8",
    "d9affc84",
    "353e9d24",
    "d49bfa2d",
    "8d585a90",
    "3acbc947"
   ],
   "name": "ENews_Express_Learner_Notebook_Full_Code v1.1.ipynb",
   "provenance": []
  },
  "kernelspec": {
   "display_name": "Python 3 (ipykernel)",
   "language": "python",
   "name": "python3"
  },
  "language_info": {
   "codemirror_mode": {
    "name": "ipython",
    "version": 3
   },
   "file_extension": ".py",
   "mimetype": "text/x-python",
   "name": "python",
   "nbconvert_exporter": "python",
   "pygments_lexer": "ipython3",
   "version": "3.10.5"
  }
 },
 "nbformat": 4,
 "nbformat_minor": 5
}
